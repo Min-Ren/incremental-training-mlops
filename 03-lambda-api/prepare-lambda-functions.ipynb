{
 "cells": [
  {
   "cell_type": "markdown",
   "id": "4ec40496",
   "metadata": {},
   "source": [
    "### Environment Preparation "
   ]
  },
  {
   "cell_type": "markdown",
   "id": "366b03c4",
   "metadata": {},
   "source": [
    "* prepare session and bucket \n",
    "* prepare necessary parameters "
   ]
  },
  {
   "cell_type": "code",
   "execution_count": null,
   "id": "73448f7a",
   "metadata": {},
   "outputs": [],
   "source": [
    "import sagemaker \n",
    "import boto3 \n",
    "sess = sagemaker.Session()\n",
    "BUCKET = sess.default_bucket()"
   ]
  },
  {
   "cell_type": "code",
   "execution_count": null,
   "id": "6e12149c",
   "metadata": {},
   "outputs": [],
   "source": [
    "BUCKET"
   ]
  },
  {
   "cell_type": "code",
   "execution_count": null,
   "id": "a2f91c93",
   "metadata": {},
   "outputs": [],
   "source": [
    "client = boto3.client(\"sts\")\n",
    "account_id = client.get_caller_identity()[\"Account\"]\n"
   ]
  },
  {
   "cell_type": "code",
   "execution_count": null,
   "id": "fdf90caa",
   "metadata": {},
   "outputs": [],
   "source": [
    "!ls \n"
   ]
  },
  {
   "cell_type": "markdown",
   "id": "a19803a9",
   "metadata": {},
   "source": [
    "### Setup lambda functions and SQS \n",
    "\n",
    "\n",
    "We use a lambda function ```process_a2i_results``` to \n",
    "1. listening to SQS and process a2i results \n",
    "2. trigger retraining pipelines \n",
    "\n",
    "The following steps creates lambda functions \n",
    "\n",
    "* copying codes to s3 \n",
    "* create lambda functions by codes on s3 \n",
    "* setup environment variables \n"
   ]
  },
  {
   "cell_type": "code",
   "execution_count": null,
   "id": "2aad7386",
   "metadata": {},
   "outputs": [],
   "source": [
    "%%bash -s \"$BUCKET\" \n",
    "cd ./process_a2i_results\n",
    "zip -r process_a2i_results.zip  .\n",
    "aws s3 cp process_a2i_results.zip s3://$1/lambda/"
   ]
  },
  {
   "cell_type": "code",
   "execution_count": null,
   "id": "b9103329",
   "metadata": {
    "scrolled": true
   },
   "outputs": [],
   "source": [
    "%store -r lambda_role_arn "
   ]
  },
  {
   "cell_type": "code",
   "execution_count": null,
   "id": "b1a4d676",
   "metadata": {},
   "outputs": [],
   "source": [
    "lambda_role_arn"
   ]
  },
  {
   "cell_type": "code",
   "execution_count": null,
   "id": "b24352fa",
   "metadata": {},
   "outputs": [],
   "source": [
    "import os\n",
    "cwd = os.getcwd()\n",
    "!aws lambda create-function --function-name process_a2i_results --zip-file fileb://$cwd/process_a2i_results/process_a2i_results.zip  --handler lambda_function.lambda_handler --runtime python3.7 --role $lambda_role_arn"
   ]
  },
  {
   "cell_type": "markdown",
   "id": "58dd8dbc",
   "metadata": {},
   "source": [
    "#### Configure lambda function - process_a2i_results\n",
    "![configure environment variable](./content_image/setup_env_vars_for_lambda3.png)"
   ]
  },
  {
   "cell_type": "code",
   "execution_count": null,
   "id": "26e90cc8",
   "metadata": {},
   "outputs": [],
   "source": [
    "%store -r model_package_group_name \n",
    "%store -r pipeline_name"
   ]
  },
  {
   "cell_type": "code",
   "execution_count": null,
   "id": "c5e0ac38",
   "metadata": {},
   "outputs": [],
   "source": [
    "bucket_key = \"a2i-demo\"\n",
    "variables = f\"MODEL_GROUP={model_package_group_name},BUCKET={BUCKET},PIPELINE={pipeline_name}\"\n",
    "env = \"Variables={\"+variables+\"}\"\n",
    "\n",
    "!aws lambda update-function-configuration --function-name process_a2i_results --environment \"$env\""
   ]
  },
  {
   "cell_type": "markdown",
   "id": "1f018cf0",
   "metadata": {},
   "source": [
    "### Set up SQS \n",
    "\n",
    "* we use SQS to pass the information between lambda functions in this solution \n",
    "* set up SQS and attach it as a trigger to a lambda function \n",
    "\n"
   ]
  },
  {
   "cell_type": "code",
   "execution_count": null,
   "id": "d1836c06",
   "metadata": {},
   "outputs": [],
   "source": [
    "!aws lambda create-event-source-mapping --function-name process_a2i_results  --batch-size 10 \\\n",
    "--maximum-batching-window-in-seconds 60 --event-source-arn arn:aws:sqs:us-west-2:$account_id:a2itasks \n"
   ]
  },
  {
   "cell_type": "code",
   "execution_count": null,
   "id": "cde8b56d",
   "metadata": {},
   "outputs": [],
   "source": []
  }
 ],
 "metadata": {
  "kernelspec": {
   "display_name": "conda_python3",
   "language": "python",
   "name": "conda_python3"
  },
  "language_info": {
   "codemirror_mode": {
    "name": "ipython",
    "version": 3
   },
   "file_extension": ".py",
   "mimetype": "text/x-python",
   "name": "python",
   "nbconvert_exporter": "python",
   "pygments_lexer": "ipython3",
   "version": "3.6.13"
  }
 },
 "nbformat": 4,
 "nbformat_minor": 5
}
