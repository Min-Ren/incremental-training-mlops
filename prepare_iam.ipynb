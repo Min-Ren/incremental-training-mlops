{
 "cells": [
  {
   "cell_type": "code",
   "execution_count": null,
   "id": "aeec81eb",
   "metadata": {},
   "outputs": [],
   "source": [
    "import boto3\n",
    "from sagemaker import get_execution_role\n",
    "\n",
    "role_name = get_execution_role().split('/')[-1]\n",
    "\n",
    "iam = boto3.client(\"iam\")\n",
    "\n",
    "print(role_name)\n",
    "policy_arns = [\"arn:aws:iam::aws:policy/AmazonSQSFullAccess\", \n",
    "               \"arn:aws:iam::aws:policy/AmazonEC2ContainerRegistryFullAccess\",\n",
    "               \"arn:aws:iam::aws:policy/AmazonAPIGatewayAdministrator\",\n",
    "               \"arn:aws:iam::aws:policy/AmazonSNSFullAccess\",\n",
    "               \"arn:aws:iam::aws:policy/AmazonEventBridgeFullAccess\",\n",
    "               \"arn:aws:iam::aws:policy/AWSLambda_FullAccess\"]\n",
    "\n",
    "for p in policy_arns: \n",
    "    iam.attach_role_policy(\n",
    "        RoleName = role_name,\n",
    "        PolicyArn = p\n",
    "    )\n",
    "\n"
   ]
  },
  {
   "cell_type": "code",
   "execution_count": null,
   "id": "fb3332d9",
   "metadata": {},
   "outputs": [],
   "source": []
  }
 ],
 "metadata": {
  "kernelspec": {
   "display_name": "conda_python3",
   "language": "python",
   "name": "conda_python3"
  },
  "language_info": {
   "codemirror_mode": {
    "name": "ipython",
    "version": 3
   },
   "file_extension": ".py",
   "mimetype": "text/x-python",
   "name": "python",
   "nbconvert_exporter": "python",
   "pygments_lexer": "ipython3",
   "version": "3.6.13"
  }
 },
 "nbformat": 4,
 "nbformat_minor": 5
}
