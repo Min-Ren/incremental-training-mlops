{
 "cells": [
  {
   "cell_type": "markdown",
   "id": "ca84dff7",
   "metadata": {},
   "source": [
    "### Add Policies to the Execution Role \n",
    "* In this sample code, we are going to use several AWS services. Therefore we have to add policies to the notebook execution role. \n",
    "* Regarding to role and policy, please refer to documents [1](https://docs.aws.amazon.com/IAM/latest/UserGuide/id_roles.html) and [2](https://docs.aws.amazon.com/IAM/latest/UserGuide/access.html)\n",
    "\n"
   ]
  },
  {
   "cell_type": "code",
   "execution_count": 1,
   "id": "75e4e966",
   "metadata": {},
   "outputs": [
    {
     "name": "stdout",
     "output_type": "stream",
     "text": [
      "AmazonSageMaker-ExecutionRole-20210616T150074\n"
     ]
    }
   ],
   "source": [
    "import boto3\n",
    "from sagemaker import get_execution_role\n",
    "\n",
    "role_name = get_execution_role().split('/')[-1]\n",
    "\n",
    "iam = boto3.client(\"iam\")\n",
    "\n",
    "print(role_name)\n",
    "policy_arns = [\"arn:aws:iam::aws:policy/AmazonSQSFullAccess\", \n",
    "               \"arn:aws:iam::aws:policy/AmazonEC2ContainerRegistryFullAccess\",\n",
    "               \"arn:aws:iam::aws:policy/AmazonAPIGatewayAdministrator\",\n",
    "               \"arn:aws:iam::aws:policy/AmazonSNSFullAccess\",\n",
    "               \"arn:aws:iam::aws:policy/AmazonEventBridgeFullAccess\",\n",
    "               \"arn:aws:iam::aws:policy/AWSLambda_FullAccess\"]\n",
    "\n",
    "for p in policy_arns: \n",
    "    iam.attach_role_policy(\n",
    "        RoleName = role_name,\n",
    "        PolicyArn = p\n",
    "    )\n",
    "\n"
   ]
  },
  {
   "cell_type": "markdown",
   "id": "70b10cb2",
   "metadata": {},
   "source": [
    "### Alternate Docker Storage Location "
   ]
  },
  {
   "cell_type": "markdown",
   "id": "37b289c8",
   "metadata": {},
   "source": [
    "* docker overlay directory usually will occupy large amount of disk space, change the location to EBS volume "
   ]
  },
  {
   "cell_type": "code",
   "execution_count": 3,
   "id": "01bef8b4",
   "metadata": {},
   "outputs": [
    {
     "name": "stdout",
     "output_type": "stream",
     "text": [
      "Stopping docker: [  OK  ]\r\n",
      "Starting docker:\t.[  OK  ]\r\n"
     ]
    },
    {
     "name": "stderr",
     "output_type": "stream",
     "text": [
      "mkdir: cannot create directory ‘/home/ec2-user/SageMaker/docker_disk’: File exists\n",
      "mv: inter-device move failed: ‘/var/lib/docker’ to ‘/home/ec2-user/SageMaker/docker_disk/docker’; unable to remove target: Directory not empty\n",
      "ln: failed to create symbolic link ‘/var/lib/docker’: File exists\n"
     ]
    }
   ],
   "source": [
    "%%bash \n",
    "sudo service docker stop\n",
    "mkdir ~/SageMaker/docker_disk\n",
    "sudo mv /var/lib/docker ~/SageMaker/docker_disk/\n",
    "sudo ln -s  ~/SageMaker/docker_disk/docker/ /var/lib/\n",
    "sudo service docker start"
   ]
  },
  {
   "cell_type": "code",
   "execution_count": null,
   "id": "bfb60d4c",
   "metadata": {},
   "outputs": [],
   "source": []
  }
 ],
 "metadata": {
  "kernelspec": {
   "display_name": "conda_python3",
   "language": "python",
   "name": "conda_python3"
  },
  "language_info": {
   "codemirror_mode": {
    "name": "ipython",
    "version": 3
   },
   "file_extension": ".py",
   "mimetype": "text/x-python",
   "name": "python",
   "nbconvert_exporter": "python",
   "pygments_lexer": "ipython3",
   "version": "3.6.13"
  }
 },
 "nbformat": 4,
 "nbformat_minor": 5
}
