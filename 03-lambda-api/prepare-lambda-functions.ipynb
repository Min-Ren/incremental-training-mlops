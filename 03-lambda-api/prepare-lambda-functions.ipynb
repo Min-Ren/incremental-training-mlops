{
 "cells": [
  {
   "cell_type": "markdown",
   "id": "0368120f",
   "metadata": {},
   "source": [
    "### Environment Preparation "
   ]
  },
  {
   "cell_type": "markdown",
   "id": "be3bd2a2",
   "metadata": {},
   "source": [
    "* prepare session and bucket \n",
    "* prepare necessary parameters "
   ]
  },
  {
   "cell_type": "code",
   "execution_count": 1,
   "id": "073b416b",
   "metadata": {},
   "outputs": [],
   "source": [
    "import sagemaker \n",
    "import boto3 \n",
    "sess = sagemaker.Session()\n",
    "BUCKET = sess.default_bucket()"
   ]
  },
  {
   "cell_type": "code",
   "execution_count": 2,
   "id": "16482657",
   "metadata": {},
   "outputs": [
    {
     "data": {
      "text/plain": [
       "'sagemaker-us-west-2-400776389993'"
      ]
     },
     "execution_count": 2,
     "metadata": {},
     "output_type": "execute_result"
    }
   ],
   "source": [
    "BUCKET"
   ]
  },
  {
   "cell_type": "code",
   "execution_count": 3,
   "id": "4993c2e6",
   "metadata": {},
   "outputs": [],
   "source": [
    "client = boto3.client(\"sts\")\n",
    "account_id = client.get_caller_identity()[\"Account\"]\n"
   ]
  },
  {
   "cell_type": "code",
   "execution_count": 4,
   "id": "952a9841",
   "metadata": {},
   "outputs": [
    {
     "name": "stdout",
     "output_type": "stream",
     "text": [
      "api.sh\tcontent_image  prepare-lambda-functions.ipynb  process_a2i_results\r\n"
     ]
    }
   ],
   "source": [
    "!ls \n"
   ]
  },
  {
   "cell_type": "markdown",
   "id": "2cdc71c1",
   "metadata": {},
   "source": [
    "### Setup lambda functions and SQS \n",
    "We use a lambda function ```invoke_image_object_detection``` to \n",
    "1. trigger the sagemaker endpoint to do inference\n",
    "2. save the image to s3 and trigger a2i process \n",
    "3. send a2i and s3 information to SQS \n",
    "\n",
    "And, we use a lambda function ```process_a2i_results``` to \n",
    "1. listening to SQS and process a2i results \n",
    "2. trigger retraining pipelines \n",
    "\n",
    "The following steps creates lambda functions \n",
    "\n",
    "* copying codes to s3 \n",
    "* create lambda functions by codes on s3 \n",
    "* setup environment variables \n"
   ]
  },
  {
   "cell_type": "code",
   "execution_count": 5,
   "id": "9ec5456b",
   "metadata": {},
   "outputs": [
    {
     "name": "stdout",
     "output_type": "stream",
     "text": [
      "updating: model.py (deflated 47%)\n",
      "updating: lambda_function.py (deflated 65%)\n",
      "updating: prepare_data.py (deflated 43%)\n",
      "Completed 2.2 KiB/2.2 KiB (24.0 KiB/s) with 1 file(s) remaining\r",
      "upload: ./process_a2i_results.zip to s3://sagemaker-us-west-2-400776389993/lambda/process_a2i_results.zip\n"
     ]
    }
   ],
   "source": [
    "%%bash -s \"$BUCKET\" \n",
    "cd ./process_a2i_results\n",
    "zip -r process_a2i_results.zip  .\n",
    "aws s3 cp process_a2i_results.zip s3://$1/lambda/"
   ]
  },
  {
   "cell_type": "code",
   "execution_count": 6,
   "id": "3b243e1d",
   "metadata": {
    "scrolled": true
   },
   "outputs": [],
   "source": [
    "%store -r role "
   ]
  },
  {
   "cell_type": "code",
   "execution_count": 7,
   "id": "4df51105",
   "metadata": {},
   "outputs": [
    {
     "data": {
      "text/plain": [
       "'arn:aws:iam::400776389993:role/SageMakerExecutionRole'"
      ]
     },
     "execution_count": 7,
     "metadata": {},
     "output_type": "execute_result"
    }
   ],
   "source": [
    "role"
   ]
  },
  {
   "cell_type": "code",
   "execution_count": 8,
   "id": "8c57ce8d",
   "metadata": {},
   "outputs": [
    {
     "name": "stdout",
     "output_type": "stream",
     "text": [
      "\r\n",
      "An error occurred (ResourceConflictException) when calling the CreateFunction operation: Function already exist: process_a2i_results\r\n"
     ]
    }
   ],
   "source": [
    "import os\n",
    "cwd = os.getcwd()\n",
    "!aws lambda create-function --function-name process_a2i_results --zip-file fileb://$cwd/process_a2i_results/process_a2i_results.zip  --handler lambda_function.lambda_handler --runtime python3.7 --role $role"
   ]
  },
  {
   "cell_type": "markdown",
   "id": "02900fa8",
   "metadata": {},
   "source": [
    "#### Configure lambda function - process_a2i_results\n",
    "![configure environment variable](./content_image/setup_env_vars_for_lambda3.png)"
   ]
  },
  {
   "cell_type": "code",
   "execution_count": 9,
   "id": "065a25e1",
   "metadata": {},
   "outputs": [],
   "source": [
    "%store -r model_package_group_name \n",
    "%store -r pipeline_name"
   ]
  },
  {
   "cell_type": "code",
   "execution_count": 10,
   "id": "ea1ef955",
   "metadata": {},
   "outputs": [
    {
     "name": "stdout",
     "output_type": "stream",
     "text": [
      "{\r\n",
      "    \"FunctionName\": \"process_a2i_results\",\r\n",
      "    \"FunctionArn\": \"arn:aws:lambda:us-west-2:400776389993:function:process_a2i_results\",\r\n",
      "    \"Runtime\": \"python3.7\",\r\n",
      "    \"Role\": \"arn:aws:iam::400776389993:role/SageMakerExecutionRole\",\r\n",
      "    \"Handler\": \"lambda_function.lambda_handler\",\r\n",
      "    \"CodeSize\": 2282,\r\n",
      "    \"Description\": \"\",\r\n",
      "    \"Timeout\": 3,\r\n",
      "    \"MemorySize\": 128,\r\n",
      "    \"LastModified\": \"2021-06-01T05:13:43.844+0000\",\r\n",
      "    \"CodeSha256\": \"2iWClprr5B1scIxcMStESwgO/97de5OpSm4EYKvm88w=\",\r\n",
      "    \"Version\": \"$LATEST\",\r\n",
      "    \"Environment\": {\r\n",
      "        \"Variables\": {\r\n",
      "            \"BUCKET\": \"sagemaker-us-west-2-400776389993\",\r\n",
      "            \"PIPELINE\": \"AudioClassification\",\r\n",
      "            \"MODEL_GROUP\": \"AudioClassificationGroupModel\"\r\n",
      "        }\r\n",
      "    },\r\n",
      "    \"TracingConfig\": {\r\n",
      "        \"Mode\": \"PassThrough\"\r\n",
      "    },\r\n",
      "    \"RevisionId\": \"6e2c8169-0ef1-449a-8731-6d9513cd110c\",\r\n",
      "    \"State\": \"Active\",\r\n",
      "    \"LastUpdateStatus\": \"Successful\",\r\n",
      "    \"PackageType\": \"Zip\"\r\n",
      "}\r\n"
     ]
    }
   ],
   "source": [
    "bucket_key = \"a2i-demo\"\n",
    "variables = f\"MODEL_GROUP={model_package_group_name},BUCKET={BUCKET},PIPELINE={pipeline_name}\"\n",
    "env = \"Variables={\"+variables+\"}\"\n",
    "\n",
    "!aws lambda update-function-configuration --function-name process_a2i_results --environment \"$env\""
   ]
  },
  {
   "cell_type": "markdown",
   "id": "ecc9ae6c",
   "metadata": {},
   "source": [
    "### Set up SQS \n",
    "\n",
    "* we use SQS to pass the information between lambda functions in this solution \n",
    "* set up SQS and attach it as a trigger to a lambda function \n",
    "\n"
   ]
  },
  {
   "cell_type": "code",
   "execution_count": 11,
   "id": "73a9dafd",
   "metadata": {},
   "outputs": [
    {
     "name": "stdout",
     "output_type": "stream",
     "text": [
      "\r\n",
      "An error occurred (ResourceConflictException) when calling the CreateEventSourceMapping operation: An event source mapping with SQS arn (\" arn:aws:sqs:us-west-2:400776389993:a2itasks \") and function (\" process_a2i_results \") already exists. Please update or delete the existing mapping with UUID 22ffd093-cfaf-458d-98f2-dcb398fd4b02\r\n"
     ]
    }
   ],
   "source": [
    "!aws lambda create-event-source-mapping --function-name process_a2i_results  --batch-size 10 \\\n",
    "--maximum-batching-window-in-seconds 60 --event-source-arn arn:aws:sqs:us-west-2:$account_id:a2itasks\n"
   ]
  },
  {
   "cell_type": "code",
   "execution_count": null,
   "id": "694a313e",
   "metadata": {},
   "outputs": [
    {
     "name": "stdout",
     "output_type": "stream",
     "text": [
      "  % Total    % Received % Xferd  Average Speed   Time    Time     Time  Current\r\n",
      "                                 Dload  Upload   Total   Spent    Left  Speed\r\n",
      "\r",
      "  0     0    0     0    0     0      0      0 --:--:-- --:--:-- --:--:--     0"
     ]
    }
   ],
   "source": [
    "!./api.sh \"https://otu4uaku1e.execute-api.us-west-2.amazonaws.com/dev/classify\" "
   ]
  },
  {
   "cell_type": "code",
   "execution_count": null,
   "id": "1286cf97",
   "metadata": {},
   "outputs": [],
   "source": []
  }
 ],
 "metadata": {
  "kernelspec": {
   "display_name": "conda_python3",
   "language": "python",
   "name": "conda_python3"
  },
  "language_info": {
   "codemirror_mode": {
    "name": "ipython",
    "version": 3
   },
   "file_extension": ".py",
   "mimetype": "text/x-python",
   "name": "python",
   "nbconvert_exporter": "python",
   "pygments_lexer": "ipython3",
   "version": "3.6.13"
  }
 },
 "nbformat": 4,
 "nbformat_minor": 5
}
